{
 "cells": [
  {
   "cell_type": "markdown",
   "metadata": {},
   "source": [
    "# Maintenance HEDA"
   ]
  },
  {
   "cell_type": "markdown",
   "metadata": {},
   "source": [
    "### Import modules"
   ]
  },
  {
   "cell_type": "code",
   "execution_count": 167,
   "metadata": {},
   "outputs": [],
   "source": [
    "from elasticsearch import Elasticsearch\n",
    "\n",
    "import PyPDF2\n",
    "import json\n",
    "import pandas as pd\n",
    "import numpy  as np"
   ]
  },
  {
   "cell_type": "code",
   "execution_count": 168,
   "metadata": {},
   "outputs": [],
   "source": [
    "# CONSTANTS\n",
    "# Directory pdfs\n",
    "PDF_PATH    = './../pdfs/'\n",
    "\n",
    "# save menuArray.json at\n",
    "MENU_ARRAY  = '../client/src/components/menuArray.json'\n",
    "\n",
    "# access pdfs from component\n",
    "PDF_PATH_JS = ''"
   ]
  },
  {
   "cell_type": "markdown",
   "metadata": {},
   "source": [
    "## Import Settings"
   ]
  },
  {
   "cell_type": "code",
   "execution_count": 169,
   "metadata": {},
   "outputs": [
    {
     "data": {
      "text/html": [
       "<div>\n",
       "<style scoped>\n",
       "    .dataframe tbody tr th:only-of-type {\n",
       "        vertical-align: middle;\n",
       "    }\n",
       "\n",
       "    .dataframe tbody tr th {\n",
       "        vertical-align: top;\n",
       "    }\n",
       "\n",
       "    .dataframe thead th {\n",
       "        text-align: right;\n",
       "    }\n",
       "</style>\n",
       "<table border=\"1\" class=\"dataframe\">\n",
       "  <thead>\n",
       "    <tr style=\"text-align: right;\">\n",
       "      <th></th>\n",
       "      <th>title</th>\n",
       "      <th>parent</th>\n",
       "      <th>description</th>\n",
       "      <th>Unnamed: 3</th>\n",
       "      <th>Unnamed: 4</th>\n",
       "      <th>Unnamed: 5</th>\n",
       "      <th>Unnamed: 6</th>\n",
       "    </tr>\n",
       "  </thead>\n",
       "  <tbody>\n",
       "    <tr>\n",
       "      <th>0</th>\n",
       "      <td>Aktuelles</td>\n",
       "      <td></td>\n",
       "      <td></td>\n",
       "      <td></td>\n",
       "      <td></td>\n",
       "      <td></td>\n",
       "      <td></td>\n",
       "    </tr>\n",
       "    <tr>\n",
       "      <th>1</th>\n",
       "      <td>sub11</td>\n",
       "      <td>Aktuelles</td>\n",
       "      <td></td>\n",
       "      <td></td>\n",
       "      <td></td>\n",
       "      <td></td>\n",
       "      <td></td>\n",
       "    </tr>\n",
       "    <tr>\n",
       "      <th>2</th>\n",
       "      <td>sub12</td>\n",
       "      <td>Aktuelles</td>\n",
       "      <td></td>\n",
       "      <td></td>\n",
       "      <td></td>\n",
       "      <td></td>\n",
       "      <td></td>\n",
       "    </tr>\n",
       "    <tr>\n",
       "      <th>3</th>\n",
       "      <td>sub13</td>\n",
       "      <td>Aktuelles</td>\n",
       "      <td>Hier könnte ihre beschreibung stehen Hier könn...</td>\n",
       "      <td>Vertrag 1</td>\n",
       "      <td>ex06.pdf</td>\n",
       "      <td>Vertrag 2</td>\n",
       "      <td>5-3.pdf</td>\n",
       "    </tr>\n",
       "    <tr>\n",
       "      <th>4</th>\n",
       "      <td>sub111</td>\n",
       "      <td>sub11</td>\n",
       "      <td>Hier könnte ihre beschreibung stehen Hier könn...</td>\n",
       "      <td>Vertrag 1</td>\n",
       "      <td>ex06.pdf</td>\n",
       "      <td></td>\n",
       "      <td></td>\n",
       "    </tr>\n",
       "  </tbody>\n",
       "</table>\n",
       "</div>"
      ],
      "text/plain": [
       "       title     parent                                        description  \\\n",
       "0  Aktuelles                                                                 \n",
       "1      sub11  Aktuelles                                                      \n",
       "2      sub12  Aktuelles                                                      \n",
       "3      sub13  Aktuelles  Hier könnte ihre beschreibung stehen Hier könn...   \n",
       "4     sub111      sub11  Hier könnte ihre beschreibung stehen Hier könn...   \n",
       "\n",
       "  Unnamed: 3 Unnamed: 4 Unnamed: 5 Unnamed: 6  \n",
       "0                                              \n",
       "1                                              \n",
       "2                                              \n",
       "3  Vertrag 1   ex06.pdf  Vertrag 2    5-3.pdf  \n",
       "4  Vertrag 1   ex06.pdf                        "
      ]
     },
     "execution_count": 169,
     "metadata": {},
     "output_type": "execute_result"
    }
   ],
   "source": [
    "df_setting = pd.read_csv('./setting.csv', sep=';')\n",
    "df_setting = df_setting.replace(np.nan, '' , regex=True)\n",
    "df_setting.head()"
   ]
  },
  {
   "cell_type": "markdown",
   "metadata": {},
   "source": [
    "## ElasticSearch\n",
    "### Read Data from Setting file"
   ]
  },
  {
   "cell_type": "code",
   "execution_count": 170,
   "metadata": {},
   "outputs": [],
   "source": [
    "def createPdfArray(row):\n",
    "    pdfArray = []\n",
    "    for i in range(int(row[3::].shape[0]/2)):\n",
    "        if row[3+2*i] != \"\":\n",
    "            pdfPath  = row[3+1+2*i]\n",
    "            pdfArray.append(pdfPath)\n",
    "    return pdfArray\n",
    "\n",
    "def getChildren(df, dfEs, parent=\"\", path=\"\"):\n",
    "    \n",
    "    dfChildren = df[df['parent']==parent]   \n",
    "    \n",
    "    for index, row in dfChildren.iterrows():\n",
    "        pdfPath     = createPdfArray(row)\n",
    "        \n",
    "        if path == \"\": pathChild = row[\"title\"]\n",
    "        else: pathChild = path + \"/\" + row[\"title\"]\n",
    "        \n",
    "        if len(df[df[\"parent\"]==row['title']]) == 0:\n",
    "            for pdf in range(len(pdfPath)):\n",
    "                dfEs.loc[len(dfEs)] = row[\"title\"], pathChild, row[\"description\"], \"\", pdfPath[pdf]\n",
    "        else:\n",
    "            getChildren(df, dfEs, row[\"title\"], pathChild)\n",
    "            \n",
    "    return dfEs\n",
    "\n",
    "def getData(df):\n",
    "    dfEs = pd.DataFrame(columns = (\"title\", \"path\", \"description\", \"content\", \"file\"))\n",
    "    dfEs = getChildren(df, dfEs)\n",
    "    return dfEs"
   ]
  },
  {
   "cell_type": "markdown",
   "metadata": {},
   "source": [
    "### Read files into DataFrame"
   ]
  },
  {
   "cell_type": "code",
   "execution_count": 171,
   "metadata": {},
   "outputs": [],
   "source": [
    "def extractPdfFiles(df):\n",
    "    \n",
    "    # get unique endPages\n",
    "    uniqueTitle = df.title.unique()\n",
    "    \n",
    "    finalDf = pd.DataFrame(columns = (\"title\", \"path\", \"description\", \"content\", \"file\"))\n",
    "    \n",
    "    for title in uniqueTitle:\n",
    "\n",
    "        dfTemp   = df[df[\"title\"]==title]\n",
    "        \n",
    "        this_doc = ''\n",
    "        files    = ''\n",
    "        numFiles = len(dfTemp)\n",
    "                \n",
    "        # loop over pdfs for given title\n",
    "        i = 0\n",
    "        for index, row in dfTemp.iterrows():\n",
    "            \n",
    "            pdfFileObj = open(PDF_PATH+row[\"file\"], 'rb')\n",
    "            pdfReader  = PyPDF2.PdfFileReader(pdfFileObj)\n",
    "            numPages   = pdfReader.numPages\n",
    "            \n",
    "            for p in range(numPages):\n",
    "                pageObj   = pdfReader.getPage(p)\n",
    "                this_text = pageObj.extractText()\n",
    "                this_doc += this_text\n",
    "            \n",
    "            if numFiles > 1:\n",
    "                if i < (numFiles-1):\n",
    "                    this_doc += ''\n",
    "                    files    += row[\"file\"] + ', '\n",
    "                else: \n",
    "                    files += row[\"file\"]\n",
    "            else: files += row[\"file\"]\n",
    "            i += 1\n",
    "        \n",
    "        finalDf.loc[len(finalDf)] = row[\"title\"], row[\"path\"], row[\"description\"], this_doc, files\n",
    "\n",
    "    return finalDf"
   ]
  },
  {
   "cell_type": "code",
   "execution_count": 172,
   "metadata": {},
   "outputs": [
    {
     "data": {
      "text/html": [
       "<div>\n",
       "<style scoped>\n",
       "    .dataframe tbody tr th:only-of-type {\n",
       "        vertical-align: middle;\n",
       "    }\n",
       "\n",
       "    .dataframe tbody tr th {\n",
       "        vertical-align: top;\n",
       "    }\n",
       "\n",
       "    .dataframe thead th {\n",
       "        text-align: right;\n",
       "    }\n",
       "</style>\n",
       "<table border=\"1\" class=\"dataframe\">\n",
       "  <thead>\n",
       "    <tr style=\"text-align: right;\">\n",
       "      <th></th>\n",
       "      <th>title</th>\n",
       "      <th>path</th>\n",
       "      <th>description</th>\n",
       "      <th>content</th>\n",
       "      <th>file</th>\n",
       "    </tr>\n",
       "  </thead>\n",
       "  <tbody>\n",
       "    <tr>\n",
       "      <th>0</th>\n",
       "      <td>sub111</td>\n",
       "      <td>Aktuelles/sub11/sub111</td>\n",
       "      <td>Hier könnte ihre beschreibung stehen Hier könn...</td>\n",
       "      <td>FundamentalsofMachineLearning\\nWinterSemester2...</td>\n",
       "      <td>ex06.pdf</td>\n",
       "    </tr>\n",
       "    <tr>\n",
       "      <th>1</th>\n",
       "      <td>sub112</td>\n",
       "      <td>Aktuelles/sub11/sub112</td>\n",
       "      <td>Hier könnte ihre beschreibung stehen Hier könn...</td>\n",
       "      <td>FundamentalsofMachineLearning\\nWinterSemester2...</td>\n",
       "      <td>ex06.pdf, 5-3.pdf</td>\n",
       "    </tr>\n",
       "    <tr>\n",
       "      <th>2</th>\n",
       "      <td>sub121</td>\n",
       "      <td>Aktuelles/sub12/sub121</td>\n",
       "      <td>Hier könnte ihre beschreibung stehen Hier könn...</td>\n",
       "      <td>FundamentalsofMachineLearning\\nWinterSemester2...</td>\n",
       "      <td>ex06.pdf</td>\n",
       "    </tr>\n",
       "    <tr>\n",
       "      <th>3</th>\n",
       "      <td>sub122</td>\n",
       "      <td>Aktuelles/sub12/sub122</td>\n",
       "      <td>Hier könnte ihre beschreibung stehen Hier könn...</td>\n",
       "      <td>FundamentalsofMachineLearning\\nWinterSemester2...</td>\n",
       "      <td>ex06.pdf, 5-3.pdf</td>\n",
       "    </tr>\n",
       "    <tr>\n",
       "      <th>4</th>\n",
       "      <td>sub13</td>\n",
       "      <td>Aktuelles/sub13</td>\n",
       "      <td>Hier könnte ihre beschreibung stehen Hier könn...</td>\n",
       "      <td>FundamentalsofMachineLearning\\nWinterSemester2...</td>\n",
       "      <td>ex06.pdf, 5-3.pdf</td>\n",
       "    </tr>\n",
       "  </tbody>\n",
       "</table>\n",
       "</div>"
      ],
      "text/plain": [
       "    title                    path  \\\n",
       "0  sub111  Aktuelles/sub11/sub111   \n",
       "1  sub112  Aktuelles/sub11/sub112   \n",
       "2  sub121  Aktuelles/sub12/sub121   \n",
       "3  sub122  Aktuelles/sub12/sub122   \n",
       "4   sub13         Aktuelles/sub13   \n",
       "\n",
       "                                         description  \\\n",
       "0  Hier könnte ihre beschreibung stehen Hier könn...   \n",
       "1  Hier könnte ihre beschreibung stehen Hier könn...   \n",
       "2  Hier könnte ihre beschreibung stehen Hier könn...   \n",
       "3  Hier könnte ihre beschreibung stehen Hier könn...   \n",
       "4  Hier könnte ihre beschreibung stehen Hier könn...   \n",
       "\n",
       "                                             content               file  \n",
       "0  FundamentalsofMachineLearning\\nWinterSemester2...           ex06.pdf  \n",
       "1  FundamentalsofMachineLearning\\nWinterSemester2...  ex06.pdf, 5-3.pdf  \n",
       "2  FundamentalsofMachineLearning\\nWinterSemester2...           ex06.pdf  \n",
       "3  FundamentalsofMachineLearning\\nWinterSemester2...  ex06.pdf, 5-3.pdf  \n",
       "4  FundamentalsofMachineLearning\\nWinterSemester2...  ex06.pdf, 5-3.pdf  "
      ]
     },
     "execution_count": 172,
     "metadata": {},
     "output_type": "execute_result"
    }
   ],
   "source": [
    "dfEs = extractPdfFiles(getData(df_setting))\n",
    "dfEs.head()"
   ]
  },
  {
   "cell_type": "markdown",
   "metadata": {},
   "source": [
    "### Create Index in Elasticsearch"
   ]
  },
  {
   "cell_type": "code",
   "execution_count": 173,
   "metadata": {},
   "outputs": [],
   "source": [
    "es = Elasticsearch()"
   ]
  },
  {
   "cell_type": "code",
   "execution_count": 174,
   "metadata": {},
   "outputs": [
    {
     "name": "stderr",
     "output_type": "stream",
     "text": [
      "POST http://localhost:9200/pypdf_test2/files [status:403 request:0.009s]\n"
     ]
    },
    {
     "ename": "AuthorizationException",
     "evalue": "AuthorizationException(403, 'cluster_block_exception', 'blocked by: [FORBIDDEN/12/index read-only / allow delete (api)];')",
     "output_type": "error",
     "traceback": [
      "\u001b[0;31m---------------------------------------------------------------------------\u001b[0m",
      "\u001b[0;31mAuthorizationException\u001b[0m                    Traceback (most recent call last)",
      "\u001b[0;32m<ipython-input-174-d816fc5db402>\u001b[0m in \u001b[0;36m<module>\u001b[0;34m\u001b[0m\n\u001b[1;32m      2\u001b[0m \u001b[0;32mfor\u001b[0m \u001b[0mrow\u001b[0m \u001b[0;32min\u001b[0m \u001b[0mrange\u001b[0m\u001b[0;34m(\u001b[0m\u001b[0mdfEs\u001b[0m\u001b[0;34m.\u001b[0m\u001b[0mshape\u001b[0m\u001b[0;34m[\u001b[0m\u001b[0;36m0\u001b[0m\u001b[0;34m]\u001b[0m\u001b[0;34m)\u001b[0m\u001b[0;34m:\u001b[0m\u001b[0;34m\u001b[0m\u001b[0;34m\u001b[0m\u001b[0m\n\u001b[1;32m      3\u001b[0m     \u001b[0mbody\u001b[0m \u001b[0;34m=\u001b[0m \u001b[0mdict\u001b[0m\u001b[0;34m(\u001b[0m\u001b[0;34m[\u001b[0m\u001b[0;34m(\u001b[0m\u001b[0mname\u001b[0m\u001b[0;34m,\u001b[0m \u001b[0mstr\u001b[0m\u001b[0;34m(\u001b[0m\u001b[0mdfEs\u001b[0m\u001b[0;34m.\u001b[0m\u001b[0miloc\u001b[0m\u001b[0;34m[\u001b[0m\u001b[0mrow\u001b[0m\u001b[0;34m]\u001b[0m\u001b[0;34m[\u001b[0m\u001b[0mname\u001b[0m\u001b[0;34m]\u001b[0m\u001b[0;34m)\u001b[0m\u001b[0;34m)\u001b[0m \u001b[0;32mfor\u001b[0m \u001b[0mname\u001b[0m \u001b[0;32min\u001b[0m \u001b[0mcol_names\u001b[0m\u001b[0;34m]\u001b[0m\u001b[0;34m)\u001b[0m\u001b[0;34m\u001b[0m\u001b[0;34m\u001b[0m\u001b[0m\n\u001b[0;32m----> 4\u001b[0;31m     \u001b[0mes\u001b[0m\u001b[0;34m.\u001b[0m\u001b[0mindex\u001b[0m\u001b[0;34m(\u001b[0m\u001b[0mindex\u001b[0m \u001b[0;34m=\u001b[0m \u001b[0;34m'pypdf_test2'\u001b[0m\u001b[0;34m,\u001b[0m \u001b[0mdoc_type\u001b[0m \u001b[0;34m=\u001b[0m \u001b[0;34m'files'\u001b[0m\u001b[0;34m,\u001b[0m \u001b[0mbody\u001b[0m \u001b[0;34m=\u001b[0m \u001b[0mbody\u001b[0m\u001b[0;34m)\u001b[0m\u001b[0;34m\u001b[0m\u001b[0;34m\u001b[0m\u001b[0m\n\u001b[0m",
      "\u001b[0;32m/usr/local/lib/python3.7/site-packages/elasticsearch/client/utils.py\u001b[0m in \u001b[0;36m_wrapped\u001b[0;34m(*args, **kwargs)\u001b[0m\n\u001b[1;32m     74\u001b[0m                 \u001b[0;32mif\u001b[0m \u001b[0mp\u001b[0m \u001b[0;32min\u001b[0m \u001b[0mkwargs\u001b[0m\u001b[0;34m:\u001b[0m\u001b[0;34m\u001b[0m\u001b[0;34m\u001b[0m\u001b[0m\n\u001b[1;32m     75\u001b[0m                     \u001b[0mparams\u001b[0m\u001b[0;34m[\u001b[0m\u001b[0mp\u001b[0m\u001b[0;34m]\u001b[0m \u001b[0;34m=\u001b[0m \u001b[0mkwargs\u001b[0m\u001b[0;34m.\u001b[0m\u001b[0mpop\u001b[0m\u001b[0;34m(\u001b[0m\u001b[0mp\u001b[0m\u001b[0;34m)\u001b[0m\u001b[0;34m\u001b[0m\u001b[0;34m\u001b[0m\u001b[0m\n\u001b[0;32m---> 76\u001b[0;31m             \u001b[0;32mreturn\u001b[0m \u001b[0mfunc\u001b[0m\u001b[0;34m(\u001b[0m\u001b[0;34m*\u001b[0m\u001b[0margs\u001b[0m\u001b[0;34m,\u001b[0m \u001b[0mparams\u001b[0m\u001b[0;34m=\u001b[0m\u001b[0mparams\u001b[0m\u001b[0;34m,\u001b[0m \u001b[0;34m**\u001b[0m\u001b[0mkwargs\u001b[0m\u001b[0;34m)\u001b[0m\u001b[0;34m\u001b[0m\u001b[0;34m\u001b[0m\u001b[0m\n\u001b[0m\u001b[1;32m     77\u001b[0m         \u001b[0;32mreturn\u001b[0m \u001b[0m_wrapped\u001b[0m\u001b[0;34m\u001b[0m\u001b[0;34m\u001b[0m\u001b[0m\n\u001b[1;32m     78\u001b[0m     \u001b[0;32mreturn\u001b[0m \u001b[0m_wrapper\u001b[0m\u001b[0;34m\u001b[0m\u001b[0;34m\u001b[0m\u001b[0m\n",
      "\u001b[0;32m/usr/local/lib/python3.7/site-packages/elasticsearch/client/__init__.py\u001b[0m in \u001b[0;36mindex\u001b[0;34m(self, index, doc_type, body, id, params)\u001b[0m\n\u001b[1;32m    317\u001b[0m                 \u001b[0;32mraise\u001b[0m \u001b[0mValueError\u001b[0m\u001b[0;34m(\u001b[0m\u001b[0;34m\"Empty value passed for a required argument.\"\u001b[0m\u001b[0;34m)\u001b[0m\u001b[0;34m\u001b[0m\u001b[0;34m\u001b[0m\u001b[0m\n\u001b[1;32m    318\u001b[0m         return self.transport.perform_request('POST' if id in SKIP_IN_PATH else 'PUT',\n\u001b[0;32m--> 319\u001b[0;31m             _make_path(index, doc_type, id), params=params, body=body)\n\u001b[0m\u001b[1;32m    320\u001b[0m \u001b[0;34m\u001b[0m\u001b[0m\n\u001b[1;32m    321\u001b[0m     @query_params('_source', '_source_exclude', '_source_include', 'parent',\n",
      "\u001b[0;32m/usr/local/lib/python3.7/site-packages/elasticsearch/transport.py\u001b[0m in \u001b[0;36mperform_request\u001b[0;34m(self, method, url, headers, params, body)\u001b[0m\n\u001b[1;32m    316\u001b[0m                 \u001b[0mdelay\u001b[0m \u001b[0;34m=\u001b[0m \u001b[0;36m2\u001b[0m\u001b[0;34m**\u001b[0m\u001b[0mattempt\u001b[0m \u001b[0;34m-\u001b[0m \u001b[0;36m1\u001b[0m\u001b[0;34m\u001b[0m\u001b[0;34m\u001b[0m\u001b[0m\n\u001b[1;32m    317\u001b[0m                 \u001b[0mtime\u001b[0m\u001b[0;34m.\u001b[0m\u001b[0msleep\u001b[0m\u001b[0;34m(\u001b[0m\u001b[0mdelay\u001b[0m\u001b[0;34m)\u001b[0m\u001b[0;34m\u001b[0m\u001b[0;34m\u001b[0m\u001b[0m\n\u001b[0;32m--> 318\u001b[0;31m                 \u001b[0mstatus\u001b[0m\u001b[0;34m,\u001b[0m \u001b[0mheaders_response\u001b[0m\u001b[0;34m,\u001b[0m \u001b[0mdata\u001b[0m \u001b[0;34m=\u001b[0m \u001b[0mconnection\u001b[0m\u001b[0;34m.\u001b[0m\u001b[0mperform_request\u001b[0m\u001b[0;34m(\u001b[0m\u001b[0mmethod\u001b[0m\u001b[0;34m,\u001b[0m \u001b[0murl\u001b[0m\u001b[0;34m,\u001b[0m \u001b[0mparams\u001b[0m\u001b[0;34m,\u001b[0m \u001b[0mbody\u001b[0m\u001b[0;34m,\u001b[0m \u001b[0mheaders\u001b[0m\u001b[0;34m=\u001b[0m\u001b[0mheaders\u001b[0m\u001b[0;34m,\u001b[0m \u001b[0mignore\u001b[0m\u001b[0;34m=\u001b[0m\u001b[0mignore\u001b[0m\u001b[0;34m,\u001b[0m \u001b[0mtimeout\u001b[0m\u001b[0;34m=\u001b[0m\u001b[0mtimeout\u001b[0m\u001b[0;34m)\u001b[0m\u001b[0;34m\u001b[0m\u001b[0;34m\u001b[0m\u001b[0m\n\u001b[0m\u001b[1;32m    319\u001b[0m \u001b[0;34m\u001b[0m\u001b[0m\n\u001b[1;32m    320\u001b[0m             \u001b[0;32mexcept\u001b[0m \u001b[0mTransportError\u001b[0m \u001b[0;32mas\u001b[0m \u001b[0me\u001b[0m\u001b[0;34m:\u001b[0m\u001b[0;34m\u001b[0m\u001b[0;34m\u001b[0m\u001b[0m\n",
      "\u001b[0;32m/usr/local/lib/python3.7/site-packages/elasticsearch/connection/http_urllib3.py\u001b[0m in \u001b[0;36mperform_request\u001b[0;34m(self, method, url, params, body, timeout, ignore, headers)\u001b[0m\n\u001b[1;32m    184\u001b[0m         \u001b[0;32mif\u001b[0m \u001b[0;32mnot\u001b[0m \u001b[0;34m(\u001b[0m\u001b[0;36m200\u001b[0m \u001b[0;34m<=\u001b[0m \u001b[0mresponse\u001b[0m\u001b[0;34m.\u001b[0m\u001b[0mstatus\u001b[0m \u001b[0;34m<\u001b[0m \u001b[0;36m300\u001b[0m\u001b[0;34m)\u001b[0m \u001b[0;32mand\u001b[0m \u001b[0mresponse\u001b[0m\u001b[0;34m.\u001b[0m\u001b[0mstatus\u001b[0m \u001b[0;32mnot\u001b[0m \u001b[0;32min\u001b[0m \u001b[0mignore\u001b[0m\u001b[0;34m:\u001b[0m\u001b[0;34m\u001b[0m\u001b[0;34m\u001b[0m\u001b[0m\n\u001b[1;32m    185\u001b[0m             \u001b[0mself\u001b[0m\u001b[0;34m.\u001b[0m\u001b[0mlog_request_fail\u001b[0m\u001b[0;34m(\u001b[0m\u001b[0mmethod\u001b[0m\u001b[0;34m,\u001b[0m \u001b[0mfull_url\u001b[0m\u001b[0;34m,\u001b[0m \u001b[0murl\u001b[0m\u001b[0;34m,\u001b[0m \u001b[0mbody\u001b[0m\u001b[0;34m,\u001b[0m \u001b[0mduration\u001b[0m\u001b[0;34m,\u001b[0m \u001b[0mresponse\u001b[0m\u001b[0;34m.\u001b[0m\u001b[0mstatus\u001b[0m\u001b[0;34m,\u001b[0m \u001b[0mraw_data\u001b[0m\u001b[0;34m)\u001b[0m\u001b[0;34m\u001b[0m\u001b[0;34m\u001b[0m\u001b[0m\n\u001b[0;32m--> 186\u001b[0;31m             \u001b[0mself\u001b[0m\u001b[0;34m.\u001b[0m\u001b[0m_raise_error\u001b[0m\u001b[0;34m(\u001b[0m\u001b[0mresponse\u001b[0m\u001b[0;34m.\u001b[0m\u001b[0mstatus\u001b[0m\u001b[0;34m,\u001b[0m \u001b[0mraw_data\u001b[0m\u001b[0;34m)\u001b[0m\u001b[0;34m\u001b[0m\u001b[0;34m\u001b[0m\u001b[0m\n\u001b[0m\u001b[1;32m    187\u001b[0m \u001b[0;34m\u001b[0m\u001b[0m\n\u001b[1;32m    188\u001b[0m         self.log_request_success(method, full_url, url, body, response.status,\n",
      "\u001b[0;32m/usr/local/lib/python3.7/site-packages/elasticsearch/connection/base.py\u001b[0m in \u001b[0;36m_raise_error\u001b[0;34m(self, status_code, raw_data)\u001b[0m\n\u001b[1;32m    123\u001b[0m             \u001b[0mlogger\u001b[0m\u001b[0;34m.\u001b[0m\u001b[0mwarning\u001b[0m\u001b[0;34m(\u001b[0m\u001b[0;34m'Undecodable raw error response from server: %s'\u001b[0m\u001b[0;34m,\u001b[0m \u001b[0merr\u001b[0m\u001b[0;34m)\u001b[0m\u001b[0;34m\u001b[0m\u001b[0;34m\u001b[0m\u001b[0m\n\u001b[1;32m    124\u001b[0m \u001b[0;34m\u001b[0m\u001b[0m\n\u001b[0;32m--> 125\u001b[0;31m         \u001b[0;32mraise\u001b[0m \u001b[0mHTTP_EXCEPTIONS\u001b[0m\u001b[0;34m.\u001b[0m\u001b[0mget\u001b[0m\u001b[0;34m(\u001b[0m\u001b[0mstatus_code\u001b[0m\u001b[0;34m,\u001b[0m \u001b[0mTransportError\u001b[0m\u001b[0;34m)\u001b[0m\u001b[0;34m(\u001b[0m\u001b[0mstatus_code\u001b[0m\u001b[0;34m,\u001b[0m \u001b[0merror_message\u001b[0m\u001b[0;34m,\u001b[0m \u001b[0madditional_info\u001b[0m\u001b[0;34m)\u001b[0m\u001b[0;34m\u001b[0m\u001b[0;34m\u001b[0m\u001b[0m\n\u001b[0m\u001b[1;32m    126\u001b[0m \u001b[0;34m\u001b[0m\u001b[0m\n\u001b[1;32m    127\u001b[0m \u001b[0;34m\u001b[0m\u001b[0m\n",
      "\u001b[0;31mAuthorizationException\u001b[0m: AuthorizationException(403, 'cluster_block_exception', 'blocked by: [FORBIDDEN/12/index read-only / allow delete (api)];')"
     ]
    }
   ],
   "source": [
    "col_names = dfEs.columns\n",
    "for row in range(dfEs.shape[0]):\n",
    "    body = dict([(name, str(dfEs.iloc[row][name])) for name in col_names])\n",
    "    es.index(index = 'pypdf_test2', doc_type = 'files', body = body)"
   ]
  },
  {
   "cell_type": "markdown",
   "metadata": {},
   "source": [
    "## Create JSON Array"
   ]
  },
  {
   "cell_type": "markdown",
   "metadata": {},
   "source": [
    "### Load setting File"
   ]
  },
  {
   "cell_type": "code",
   "execution_count": 175,
   "metadata": {
    "scrolled": false
   },
   "outputs": [],
   "source": [
    "def createNewEntry(path, title, description, pdfArray, submenu):\n",
    "    newJSON = {\"values\": {\"title\":title, \"path\":path, \"id\":title+\"-id\", \"description\":description, \"pdfpath\":pdfArray}, \"submenu\":submenu}\n",
    "    return newJSON\n",
    "\n",
    "def createPdfArray(row):\n",
    "    pdfArray = []\n",
    "    for i in range(int(row[3::].shape[0]/2)):\n",
    "        if row[3+2*i] != \"\":\n",
    "            pdfTitle = row[3+2*i]\n",
    "            pdfPath  = row[3+1+2*i]\n",
    "            pdfArray.append({\"title\":pdfTitle,\"path\":PDF_PATH_JS+pdfPath})\n",
    "    return pdfArray\n",
    "\n",
    "# create json array\n",
    "def createSub(df, jsonArray, parent=\"\", path=\"\"):\n",
    "    \n",
    "    dfChildren = df[df['parent']==parent]   \n",
    "    \n",
    "    for index, row in dfChildren.iterrows():\n",
    "        title       = row[\"title\"]\n",
    "        description = row[\"description\"]\n",
    "        pdfPath     = createPdfArray(row)\n",
    "        \n",
    "        if path == \"\": pathChild = row[\"title\"]\n",
    "        else: pathChild = path + \"/\" + row[\"title\"]\n",
    "        \n",
    "        if len(df[df[\"parent\"]==row['title']]) == 0:\n",
    "            jsonArray.append(createNewEntry(pathChild , title, description, pdfPath, []))\n",
    "            \n",
    "        else:\n",
    "            jsonArray.append(createNewEntry(pathChild, title, description, pdfPath, createSub(df, [], row[\"title\"], pathChild)))\n",
    "            \n",
    "    return jsonArray"
   ]
  },
  {
   "cell_type": "markdown",
   "metadata": {},
   "source": [
    "#### Create JSON and write to file"
   ]
  },
  {
   "cell_type": "code",
   "execution_count": 176,
   "metadata": {},
   "outputs": [],
   "source": [
    "jsonArray = createSub(df_setting, [])\n",
    "\n",
    "with open(MENU_ARRAY, 'w') as outfile:  \n",
    "    json.dump(jsonArray, outfile, indent=4)"
   ]
  }
 ],
 "metadata": {
  "kernelspec": {
   "display_name": "Python 3",
   "language": "python",
   "name": "python3"
  },
  "language_info": {
   "codemirror_mode": {
    "name": "ipython",
    "version": 3
   },
   "file_extension": ".py",
   "mimetype": "text/x-python",
   "name": "python",
   "nbconvert_exporter": "python",
   "pygments_lexer": "ipython3",
   "version": "3.7.1"
  }
 },
 "nbformat": 4,
 "nbformat_minor": 2
}
